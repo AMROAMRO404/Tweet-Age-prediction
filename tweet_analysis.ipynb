{
  "nbformat": 4,
  "nbformat_minor": 0,
  "metadata": {
    "colab": {
      "name": "tweet_analysis.ipynb",
      "provenance": [],
      "collapsed_sections": [
        "9hkdD-eXEiJk"
      ],
      "authorship_tag": "ABX9TyPkrH4uS2sDg6J3C6WCLaUE",
      "include_colab_link": true
    },
    "kernelspec": {
      "name": "python3",
      "display_name": "Python 3"
    },
    "language_info": {
      "name": "python"
    }
  },
  "cells": [
    {
      "cell_type": "markdown",
      "metadata": {
        "id": "view-in-github",
        "colab_type": "text"
      },
      "source": [
        "<a href=\"https://colab.research.google.com/github/AMROAMRO404/Tweet-Age-prediction/blob/main/tweet_analysis.ipynb\" target=\"_parent\"><img src=\"https://colab.research.google.com/assets/colab-badge.svg\" alt=\"Open In Colab\"/></a>"
      ]
    },
    {
      "cell_type": "markdown",
      "metadata": {
        "id": "yOvKhNSVyyfz"
      },
      "source": [
        "# **Data preprocessing**"
      ]
    },
    {
      "cell_type": "code",
      "metadata": {
        "id": "CoUAIAd1FXL2"
      },
      "source": [
        "from google.colab import drive\n",
        "drive.mount(\"/content/gdrive\")\n",
        "import xml.etree.ElementTree as Xet\n",
        "import pandas as pd\n",
        "import numpy as np\n",
        "import os\n",
        "\n",
        "# assign directory\n",
        "directory = \"/content/gdrive/MyDrive/Project_Data/pan2015\"\n",
        "# assign csv file path\n",
        "data_csv = \"/content/gdrive/MyDrive/Project_Data/data.csv\"\n",
        "\n",
        "truth = \"/content/gdrive/MyDrive/Project_Data/truth.txt\"\n",
        "\n",
        "# cols = [\"id\", \"tweet_text\", \"gender\", \"age\"]\n",
        "# rows = []\n",
        "list_of_documents = []\n",
        "ordered_ids = []\n",
        "for i,filename in enumerate(os.listdir(directory)):\n",
        "    f = os.path.join(directory, filename)\n",
        "    # checking if it is a file\n",
        "    if os.path.isfile(f): # print(f)\n",
        "      xmlparse = Xet.parse(f)\n",
        "      root = xmlparse.getroot()\n",
        "      list_of_documents.append(root.getchildren())\n",
        "      id = root.attrib['id']\n",
        "      ordered_ids.append({\"id\": id})\n",
        "list_of_documents = np.array(list_of_documents)\n",
        "ordered_ids = np.array(ordered_ids)\n",
        "print(list_of_documents)\n",
        "print(ordered_ids)\n"
      ],
      "execution_count": null,
      "outputs": []
    },
    {
      "cell_type": "code",
      "metadata": {
        "id": "pPVwQ74VN_wr"
      },
      "source": [
        "f = open(truth, 'r+')\n",
        "lines = [line for line in f.readlines()]\n",
        "f.close()\n",
        "\n",
        "truth_dict = {}\n",
        "for i in range(len(lines)):\n",
        "  curr_id = lines[i][:36]\n",
        "  truth_dict[curr_id] = lines[i][43:48]\n",
        "for key, value in truth_dict.items():\n",
        "    print(key, ' : ', value)"
      ],
      "execution_count": null,
      "outputs": []
    },
    {
      "cell_type": "code",
      "metadata": {
        "id": "NOZKPP5ysUJM"
      },
      "source": [
        "all_user_text = []\n",
        "data_dict = {}\n",
        "for i in range(len(list_of_documents)):\n",
        "  current_user_texts = []\n",
        "  for j in range(len(list_of_documents[i])):\n",
        "    current_user_texts.append(list_of_documents[i][j].text)\n",
        "  all_user_text.append(current_user_texts)\n",
        "all_user_text = np.array(all_user_text)\n",
        "print(all_user_text)\n"
      ],
      "execution_count": null,
      "outputs": []
    },
    {
      "cell_type": "code",
      "metadata": {
        "id": "v0Bj_Uf4uF_n"
      },
      "source": [
        "all_data = []\n",
        "for i in range(len(ordered_ids)):\n",
        "  all_data.append({\"id\":ordered_ids[i]['id'],\"class\":truth_dict[ordered_ids[i]['id']],\"texts\":all_user_text[i]})\n",
        "all_data = np.array(all_data)\n",
        "print(all_data)"
      ],
      "execution_count": null,
      "outputs": []
    },
    {
      "cell_type": "code",
      "metadata": {
        "colab": {
          "base_uri": "https://localhost:8080/"
        },
        "id": "M9DJ8p0bxvOV",
        "outputId": "06fc2ab3-4063-4cf5-a825-75162615142f"
      },
      "source": [
        "to_data_frame = [] \n",
        "for i in range(len(all_data)):\n",
        "  texts_user = all_data[i]['texts']\n",
        "  class_user = all_data[i]['class']\n",
        "  for j in range(len(texts_user)):\n",
        "    to_data_frame.append([texts_user[j],class_user])\n",
        "to_data_frame= np.array(to_data_frame)\n",
        "print(to_data_frame)\n"
      ],
      "execution_count": null,
      "outputs": [
        {
          "output_type": "stream",
          "text": [
            "[['Things I want for my business cards but are too expensive: 3 PMS colors. colored edges, soft touch finish, raised spot UV, cut 45°corners.\\t\\t'\n",
            "  '25-34']\n",
            " ['\"painters produced their most highly valued work when they were 41.92 years old\"\\nhttp://t.co/T8Gvom70GE\\n\\nSo... I\\'ve 15 years left for mine?\\t\\t'\n",
            "  '25-34']\n",
            " [\"@username your new discussion layout is confusing regarding who says what, because the comments aren't sectioned off. http://t.co/Dfkg4js2o2\\t\\t\"\n",
            "  '25-34']\n",
            " ...\n",
            " [\"@username hahahaha *insert all hate emoji's*\\t\\t\" '18-24']\n",
            " ['Just one of those days http://t.co/ejufiYiXMr\\t\\t' '18-24']\n",
            " ['@username heb al red bull bitch\\t\\t' '18-24']]\n"
          ],
          "name": "stdout"
        }
      ]
    },
    {
      "cell_type": "code",
      "metadata": {
        "id": "e18SWiEU8V8C"
      },
      "source": [
        "df = pd.DataFrame(to_data_frame).to_csv(data_csv)\n",
        "df = pd.read_csv(data_csv, names=['tweet', 'class'])\n",
        "df = df.iloc[1: , :]"
      ],
      "execution_count": null,
      "outputs": []
    },
    {
      "cell_type": "markdown",
      "metadata": {
        "id": "r1alaOi_A8TP"
      },
      "source": [
        "# **Data Description**"
      ]
    },
    {
      "cell_type": "code",
      "metadata": {
        "colab": {
          "base_uri": "https://localhost:8080/"
        },
        "id": "HWjDwTtJA_1z",
        "outputId": "b4bb442c-2800-4ef2-b5ed-9bdcbb068916"
      },
      "source": [
        "# Display dimensions of dataframe\n",
        "print(type(df))\n",
        "print(df.shape)\n",
        "print(df.info())\n",
        "\n",
        "print(\"_______________________________________________________________________\")\n",
        "# Display first 10 records\n",
        "print(df.head(10))\n",
        "\n",
        "print(\"_______________________________________________________________________\")\n",
        "# Display last 10 records\n",
        "print(df.tail(10))\n",
        "\n",
        "print(\"_______________________________________________________________________\")\n",
        "# List types of all columns\n",
        "print(df.dtypes)\n",
        "\n",
        "print(\"_______________________________________________________________________\")\n",
        "# List the column names\n",
        "print(df.columns)"
      ],
      "execution_count": null,
      "outputs": [
        {
          "output_type": "stream",
          "text": [
            "<class 'pandas.core.frame.DataFrame'>\n",
            "(14166, 2)\n",
            "<class 'pandas.core.frame.DataFrame'>\n",
            "Float64Index: 14166 entries, 0.0 to 14165.0\n",
            "Data columns (total 2 columns):\n",
            " #   Column  Non-Null Count  Dtype \n",
            "---  ------  --------------  ----- \n",
            " 0   tweet   14166 non-null  object\n",
            " 1   class   14166 non-null  object\n",
            "dtypes: object(2)\n",
            "memory usage: 332.0+ KB\n",
            "None\n",
            "_______________________________________________________________________\n",
            "                                                 tweet  class\n",
            "0.0  Things I want for my business cards but are to...  25-34\n",
            "1.0  \"painters produced their most highly valued wo...  25-34\n",
            "2.0  @username your new discussion layout is confus...  25-34\n",
            "3.0  I never really understood why game environment...  25-34\n",
            "4.0  @username 20k and 2048² on a gun, fine. But th...  25-34\n",
            "5.0  @username Guns using the texture already in me...  25-34\n",
            "6.0  @username I'm talking about chars that are sma...  25-34\n",
            "7.0  @username Dammit Crendor. You broke Jesse's ga...  25-34\n",
            "8.0  @username @username I liken Esther to a movie....  25-34\n",
            "9.0  Gamers unfazed, Sale has arrived!\\nThe tiniest...  25-34\n",
            "_______________________________________________________________________\n",
            "                                                     tweet  class\n",
            "14156.0               @username JA DAT DACHT IK OOK JA\\t\\t  18-24\n",
            "14157.0    Shower in a can ???? http://t.co/NMuGOYVDIm\\t\\t  18-24\n",
            "14158.0  Today stats: One follower, One unfollower via ...  18-24\n",
            "14159.0   @username \"and we get a free lunch\" hahahaha\\t\\t  18-24\n",
            "14160.0  Today stats: 2 followers, No unfollowers via h...  18-24\n",
            "14161.0  \"@username: Just a bit of motivation - http://...  18-24\n",
            "14162.0  Today stats: No new followers, 3 unfollowers v...  18-24\n",
            "14163.0   @username hahahaha *insert all hate emoji's*\\t\\t  18-24\n",
            "14164.0  Just one of those days http://t.co/ejufiYiXMr\\t\\t  18-24\n",
            "14165.0                @username heb al red bull bitch\\t\\t  18-24\n",
            "_______________________________________________________________________\n",
            "tweet    object\n",
            "class    object\n",
            "dtype: object\n",
            "_______________________________________________________________________\n",
            "Index(['tweet', 'class'], dtype='object')\n"
          ],
          "name": "stdout"
        }
      ]
    },
    {
      "cell_type": "code",
      "metadata": {
        "colab": {
          "base_uri": "https://localhost:8080/",
          "height": 349
        },
        "id": "4YlrPeewBH22",
        "outputId": "667998f8-0db0-4f9d-b62c-77b86b98ff59"
      },
      "source": [
        "import seaborn as sns \n",
        "# Is there any missing values ?\n",
        "print(\"SUM : \\n\",df.isnull().sum())\n",
        "sns.heatmap(df.isnull(), cbar=False, yticklabels=False, cmap=\"viridis\")"
      ],
      "execution_count": null,
      "outputs": [
        {
          "output_type": "stream",
          "text": [
            "SUM : \n",
            " tweet    0\n",
            "class    0\n",
            "dtype: int64\n"
          ],
          "name": "stdout"
        },
        {
          "output_type": "execute_result",
          "data": {
            "text/plain": [
              "<matplotlib.axes._subplots.AxesSubplot at 0x7f657eeeaa50>"
            ]
          },
          "metadata": {
            "tags": []
          },
          "execution_count": 126
        },
        {
          "output_type": "display_data",
          "data": {
            "image/png": "[encoded data removed]",
            "text/plain": [
              "<Figure size 432x288 with 1 Axes>"
            ]
          },
          "metadata": {
            "tags": [],
            "needs_background": "light"
          }
        }
      ]
    },
    {
      "cell_type": "code",
      "metadata": {
        "colab": {
          "base_uri": "https://localhost:8080/"
        },
        "id": "_gSlV9gxBLNp",
        "outputId": "bc054d5a-f9c7-425c-9c62-3d5ecdd252cb"
      },
      "source": [
        "# Dropping the duplicate rows\n",
        "duplicate_rows = df[df.duplicated()]\n",
        "print(\"number of duplicate rows : \",duplicate_rows.shape)\n",
        "\n",
        "df.drop_duplicates(inplace=True)\n",
        "print(\"number of duplicate rows : \",df[df.duplicated()].shape)"
      ],
      "execution_count": null,
      "outputs": [
        {
          "output_type": "stream",
          "text": [
            "number of duplicate rows :  (0, 2)\n",
            "number of duplicate rows :  (0, 2)\n"
          ],
          "name": "stdout"
        }
      ]
    },
    {
      "cell_type": "code",
      "metadata": {
        "colab": {
          "base_uri": "https://localhost:8080/"
        },
        "id": "chT1RrL5BQ2T",
        "outputId": "14a2ed4e-b554-4d0c-df59-e7b1f6266578"
      },
      "source": [
        "# Mapping of label values\n",
        "df_copy = df.copy()\n",
        "print(df.head(10))\n",
        "\n",
        "print(\"_______________________________________________________________________\")\n",
        "df_copy[\"class\"] = df_copy[\"class\"].map({\"25-34\":1,\"35-49\":2,\"50-XX\":3,\"18-24\":0})\n",
        "print(\"class :\\n\",df_copy.head(10))"
      ],
      "execution_count": null,
      "outputs": [
        {
          "output_type": "stream",
          "text": [
            "                                                 tweet  class\n",
            "0.0  Things I want for my business cards but are to...  25-34\n",
            "1.0  \"painters produced their most highly valued wo...  25-34\n",
            "2.0  @username your new discussion layout is confus...  25-34\n",
            "3.0  I never really understood why game environment...  25-34\n",
            "4.0  @username 20k and 2048² on a gun, fine. But th...  25-34\n",
            "5.0  @username Guns using the texture already in me...  25-34\n",
            "6.0  @username I'm talking about chars that are sma...  25-34\n",
            "7.0  @username Dammit Crendor. You broke Jesse's ga...  25-34\n",
            "8.0  @username @username I liken Esther to a movie....  25-34\n",
            "9.0  Gamers unfazed, Sale has arrived!\\nThe tiniest...  25-34\n",
            "_______________________________________________________________________\n",
            "class :\n",
            "                                                  tweet  class\n",
            "0.0  Things I want for my business cards but are to...      1\n",
            "1.0  \"painters produced their most highly valued wo...      1\n",
            "2.0  @username your new discussion layout is confus...      1\n",
            "3.0  I never really understood why game environment...      1\n",
            "4.0  @username 20k and 2048² on a gun, fine. But th...      1\n",
            "5.0  @username Guns using the texture already in me...      1\n",
            "6.0  @username I'm talking about chars that are sma...      1\n",
            "7.0  @username Dammit Crendor. You broke Jesse's ga...      1\n",
            "8.0  @username @username I liken Esther to a movie....      1\n",
            "9.0  Gamers unfazed, Sale has arrived!\\nThe tiniest...      1\n"
          ],
          "name": "stdout"
        }
      ]
    },
    {
      "cell_type": "markdown",
      "metadata": {
        "id": "efh0FcnkDDqm"
      },
      "source": [
        "# **Models Implementation**"
      ]
    },
    {
      "cell_type": "code",
      "metadata": {
        "id": "TsFaSO4bDGT8"
      },
      "source": [
        "# import libraries\n",
        "from sklearn.feature_extraction.text import TfidfVectorizer\n",
        "from sklearn.metrics import accuracy_score\n",
        "from sklearn.model_selection import train_test_split\n",
        "from sklearn.naive_bayes import MultinomialNB\n",
        "from sklearn import metrics"
      ],
      "execution_count": null,
      "outputs": []
    },
    {
      "cell_type": "code",
      "metadata": {
        "colab": {
          "base_uri": "https://localhost:8080/"
        },
        "id": "FwwHlZRoDH_S",
        "outputId": "3b4f43e3-e6f9-4a1d-c414-53ca6ad9e582"
      },
      "source": [
        "y = df_copy[\"class\"].values\n",
        "# split the dataset into training data and test data\n",
        "X_train, X_test, y_train, y_test = train_test_split(df_copy, y, \n",
        "                        test_size= 0.20, random_state=100, stratify=y)\n",
        "\n",
        "vec = TfidfVectorizer()\n",
        "train_vectors = vec.fit_transform(X_train['tweet'])\n",
        "test_vectors = vec.transform(X_test['tweet'])\n",
        "\n",
        "print(\"train data : \", train_vectors.shape)\n",
        "print(\"test data : \", test_vectors.shape)"
      ],
      "execution_count": null,
      "outputs": [
        {
          "output_type": "stream",
          "text": [
            "train data :  (11236, 22517)\n",
            "test data :  (2810, 22517)\n"
          ],
          "name": "stdout"
        }
      ]
    },
    {
      "cell_type": "code",
      "metadata": {
        "colab": {
          "base_uri": "https://localhost:8080/",
          "height": 664
        },
        "id": "Vy7EiLXEDQQ-",
        "outputId": "7382aa93-2bcc-48e0-e4cd-1e9d4f4b8b2f"
      },
      "source": [
        "MNB_clf = MultinomialNB()\n",
        "\n",
        "# fit model no training data\n",
        "MNB_clf.fit(train_vectors, y_train)\n",
        "\n",
        "# making predictions on the testing set \n",
        "predicted = MNB_clf.predict(test_vectors)\n",
        "\n",
        "# Classification report\n",
        "print(\"Classification report : \\n\", MNB_clf,\"\\n\", \n",
        "      metrics.classification_report(y_test, predicted))\n",
        "disp = metrics.plot_confusion_matrix(MNB_clf, test_vectors, y_test)\n",
        "disp.figure_.suptitle(\"Confusion Matrix\")\n",
        "print(\"Confusion matrix: \\n\", disp.confusion_matrix)"
      ],
      "execution_count": null,
      "outputs": [
        {
          "output_type": "stream",
          "text": [
            "Classification report : \n",
            " MultinomialNB(alpha=1.0, class_prior=None, fit_prior=True) \n",
            "               precision    recall  f1-score   support\n",
            "\n",
            "           0       0.63      0.87      0.73      1110\n",
            "           1       0.63      0.70      0.66      1113\n",
            "           2       0.95      0.05      0.09       369\n",
            "           3       0.00      0.00      0.00       218\n",
            "\n",
            "    accuracy                           0.63      2810\n",
            "   macro avg       0.55      0.41      0.37      2810\n",
            "weighted avg       0.62      0.63      0.56      2810\n",
            "\n",
            "Confusion matrix: \n",
            " [[971 139   0   0]\n",
            " [332 780   1   0]\n",
            " [119 232  18   0]\n",
            " [125  93   0   0]]\n"
          ],
          "name": "stdout"
        },
        {
          "output_type": "stream",
          "text": [
            "/usr/local/lib/python3.7/dist-packages/sklearn/metrics/_classification.py:1272: UndefinedMetricWarning: Precision and F-score are ill-defined and being set to 0.0 in labels with no predicted samples. Use `zero_division` parameter to control this behavior.\n",
            "  _warn_prf(average, modifier, msg_start, len(result))\n"
          ],
          "name": "stderr"
        },
        {
          "output_type": "display_data",
          "data": {
            "image/png": "[encoded data removed]",
            "text/plain": [
              "<Figure size 432x288 with 2 Axes>"
            ]
          },
          "metadata": {
            "tags": [],
            "needs_background": "light"
          }
        }
      ]
    },
    {
      "cell_type": "code",
      "metadata": {
        "colab": {
          "base_uri": "https://localhost:8080/",
          "height": 812
        },
        "id": "rhjq-9D5ET18",
        "outputId": "b9deb5fd-7ef8-4193-9360-26acbd62f0dd"
      },
      "source": [
        "from sklearn.linear_model import LogisticRegression\n",
        "\n",
        "# Create the classifier\n",
        "# multi_class: default = \"auto\"\n",
        "logreg = LogisticRegression(random_state=42)\n",
        "\n",
        "# Train the classifier\n",
        "logreg.fit(train_vectors, y_train)\n",
        "\n",
        "# Predict the value of X_test\n",
        "predicted = logreg.predict(test_vectors)\n",
        "\n",
        "# Classification report\n",
        "print(\"Classifier : \", logreg)\n",
        "print(\"Classification report for classifier : \\n\", metrics.classification_report(y_test, predicted))\n",
        "\n",
        "disp = metrics.plot_confusion_matrix(logreg, test_vectors, y_test)\n",
        "disp.figure_.suptitle(\"Confusion Matrix\")\n",
        "print(\"Confusion matrix: \\n\", disp.confusion_matrix)"
      ],
      "execution_count": null,
      "outputs": [
        {
          "output_type": "stream",
          "text": [
            "/usr/local/lib/python3.7/dist-packages/sklearn/linear_model/_logistic.py:940: ConvergenceWarning: lbfgs failed to converge (status=1):\n",
            "STOP: TOTAL NO. of ITERATIONS REACHED LIMIT.\n",
            "\n",
            "Increase the number of iterations (max_iter) or scale the data as shown in:\n",
            "    https://scikit-learn.org/stable/modules/preprocessing.html\n",
            "Please also refer to the documentation for alternative solver options:\n",
            "    https://scikit-learn.org/stable/modules/linear_model.html#logistic-regression\n",
            "  extra_warning_msg=_LOGISTIC_SOLVER_CONVERGENCE_MSG)\n"
          ],
          "name": "stderr"
        },
        {
          "output_type": "stream",
          "text": [
            "Classifier :  LogisticRegression(C=1.0, class_weight=None, dual=False, fit_intercept=True,\n",
            "                   intercept_scaling=1, l1_ratio=None, max_iter=100,\n",
            "                   multi_class='auto', n_jobs=None, penalty='l2',\n",
            "                   random_state=42, solver='lbfgs', tol=0.0001, verbose=0,\n",
            "                   warm_start=False)\n",
            "Classification report for classifier : \n",
            "               precision    recall  f1-score   support\n",
            "\n",
            "           0       0.70      0.80      0.75      1110\n",
            "           1       0.66      0.74      0.70      1113\n",
            "           2       0.67      0.37      0.48       369\n",
            "           3       0.62      0.19      0.29       218\n",
            "\n",
            "    accuracy                           0.67      2810\n",
            "   macro avg       0.66      0.53      0.55      2810\n",
            "weighted avg       0.67      0.67      0.66      2810\n",
            "\n",
            "Confusion matrix: \n",
            " [[890 195  11  14]\n",
            " [234 826  48   5]\n",
            " [ 71 154 138   6]\n",
            " [ 83  84  10  41]]\n"
          ],
          "name": "stdout"
        },
        {
          "output_type": "display_data",
          "data": {
            "image/png": "[encoded data removed]",
            "text/plain": [
              "<Figure size 432x288 with 2 Axes>"
            ]
          },
          "metadata": {
            "tags": [],
            "needs_background": "light"
          }
        }
      ]
    },
    {
      "cell_type": "code",
      "metadata": {
        "colab": {
          "base_uri": "https://localhost:8080/",
          "height": 661
        },
        "id": "YyVAGjwAFw07",
        "outputId": "4cd6351d-2826-4936-e2d4-c8d58380f706"
      },
      "source": [
        "from sklearn import datasets, svm, metrics\n",
        "\n",
        "# Create a classifier: a support vector classifier\n",
        "\n",
        "# classifier = svm.SVC()\n",
        "classifier = svm.SVC(kernel=\"linear\")\n",
        "# classifier = svm.SVC(kernel=\"poly\", degree=2, C=3, gamma=0.1)\n",
        "# classifier = svm.SVC(kernel=\"sigmoid\", C=10, gamma=0.001)\n",
        "# classifier = svm.SVC(kernel=\"rbf\", C=100, gamma=0.001)\n",
        "\n",
        "# Train the classifier\n",
        "classifier.fit(train_vectors, y_train)\n",
        "\n",
        "predicted = classifier.predict(test_vectors)\n",
        "\n",
        "# Classification report\n",
        "print(\"Classification report : \\n\", classifier,\"\\n\", \n",
        "      metrics.classification_report(y_test, predicted))\n",
        "\n",
        "disp = metrics.plot_confusion_matrix(classifier,  test_vectors, y_test)\n",
        "disp.figure_.suptitle(\"Confusion Matrix\")\n",
        "\n",
        "print(\"Confusion matrix: \\n\", disp.confusion_matrix)"
      ],
      "execution_count": null,
      "outputs": [
        {
          "output_type": "stream",
          "text": [
            "Classification report : \n",
            " SVC(C=1.0, break_ties=False, cache_size=200, class_weight=None, coef0=0.0,\n",
            "    decision_function_shape='ovr', degree=3, gamma='scale', kernel='linear',\n",
            "    max_iter=-1, probability=False, random_state=None, shrinking=True,\n",
            "    tol=0.001, verbose=False) \n",
            "               precision    recall  f1-score   support\n",
            "\n",
            "           0       0.70      0.81      0.75      1110\n",
            "           1       0.67      0.73      0.70      1113\n",
            "           2       0.70      0.41      0.51       369\n",
            "           3       0.66      0.23      0.35       218\n",
            "\n",
            "    accuracy                           0.68      2810\n",
            "   macro avg       0.68      0.55      0.58      2810\n",
            "weighted avg       0.68      0.68      0.67      2810\n",
            "\n",
            "Confusion matrix: \n",
            " [[900 189   7  14]\n",
            " [241 818  47   7]\n",
            " [ 76 138 150   5]\n",
            " [ 74  83  10  51]]\n"
          ],
          "name": "stdout"
        },
        {
          "output_type": "display_data",
          "data": {
            "image/png": "[encoded data removed]",
            "text/plain": [
              "<Figure size 432x288 with 2 Axes>"
            ]
          },
          "metadata": {
            "tags": [],
            "needs_background": "light"
          }
        }
      ]
    },
    {
      "cell_type": "code",
      "metadata": {
        "colab": {
          "base_uri": "https://localhost:8080/",
          "height": 694
        },
        "id": "ms7clvCmGSXf",
        "outputId": "956ae0c7-e9ff-4c99-d1fb-0a811cd5e845"
      },
      "source": [
        "from sklearn.tree import DecisionTreeClassifier\n",
        "from sklearn import metrics\n",
        "\n",
        "# training the model on training set\n",
        "# criterion='gini' splitter='best' \n",
        "# max_depth\n",
        "tree_clf = DecisionTreeClassifier()\n",
        "tree_clf.fit(train_vectors, y_train)\n",
        "\n",
        "# making predictions on the testing set \n",
        "predicted = tree_clf.predict(test_vectors)\n",
        "\n",
        "# comparing actual response values (y_test) with predicted response values (predicted)\n",
        "from sklearn import metrics \n",
        "print(\"Classification report : \\n\", tree_clf,\"\\n\", metrics.classification_report(y_test, predicted))\n",
        "disp = metrics.plot_confusion_matrix(tree_clf,  test_vectors, y_test)\n",
        "disp.figure_.suptitle(\"Confusion Matrix\")\n",
        "print(\"Confusion matrix: \\n\", disp.confusion_matrix)"
      ],
      "execution_count": null,
      "outputs": [
        {
          "output_type": "stream",
          "text": [
            "Classification report : \n",
            " DecisionTreeClassifier(ccp_alpha=0.0, class_weight=None, criterion='gini',\n",
            "                       max_depth=None, max_features=None, max_leaf_nodes=None,\n",
            "                       min_impurity_decrease=0.0, min_impurity_split=None,\n",
            "                       min_samples_leaf=1, min_samples_split=2,\n",
            "                       min_weight_fraction_leaf=0.0, presort='deprecated',\n",
            "                       random_state=None, splitter='best') \n",
            "               precision    recall  f1-score   support\n",
            "\n",
            "           0       0.60      0.71      0.65      1110\n",
            "           1       0.59      0.55      0.57      1113\n",
            "           2       0.42      0.38      0.40       369\n",
            "           3       0.29      0.18      0.23       218\n",
            "\n",
            "    accuracy                           0.56      2810\n",
            "   macro avg       0.47      0.45      0.46      2810\n",
            "weighted avg       0.55      0.56      0.55      2810\n",
            "\n",
            "Confusion matrix: \n",
            " [[787 233  54  36]\n",
            " [343 607 122  41]\n",
            " [ 90 121 139  19]\n",
            " [ 86  73  19  40]]\n"
          ],
          "name": "stdout"
        },
        {
          "output_type": "display_data",
          "data": {
            "image/png": "[encoded data removed]",
            "text/plain": [
              "<Figure size 432x288 with 2 Axes>"
            ]
          },
          "metadata": {
            "tags": [],
            "needs_background": "light"
          }
        }
      ]
    },
    {
      "cell_type": "markdown",
      "metadata": {
        "id": "9hkdD-eXEiJk"
      },
      "source": [
        "# **Validation**"
      ]
    },
    {
      "cell_type": "code",
      "metadata": {
        "id": "MgrSmYpeEjUO"
      },
      "source": [
        "# Cross-validation\n",
        "from sklearn.feature_extraction.text import TfidfVectorizer\n",
        "from sklearn.metrics import accuracy_score\n",
        "from sklearn.svm import SVC\n",
        "from sklearn.model_selection import cross_val_score"
      ],
      "execution_count": null,
      "outputs": []
    },
    {
      "cell_type": "code",
      "metadata": {
        "colab": {
          "base_uri": "https://localhost:8080/"
        },
        "id": "B2nkUslCEm8N",
        "outputId": "0f40f6fd-a907-4606-bd09-23249fb18720"
      },
      "source": [
        "print(\"\\n Stratified K-fold Cross-Validation : *********\")\n",
        "from sklearn.model_selection import StratifiedKFold\n",
        "skfold = StratifiedKFold(n_splits=10, random_state=100)\n",
        "model = logreg\n",
        "results_model = cross_val_score(model, train_vectors, y_train, cv=skfold)\n",
        "print(\"Scores    :\", results_model)\n",
        "print(\"Accuracy  :\", results_model.mean())"
      ],
      "execution_count": null,
      "outputs": [
        {
          "output_type": "stream",
          "text": [
            "\n",
            " Stratified K-fold Cross-Validation : *********\n"
          ],
          "name": "stdout"
        },
        {
          "output_type": "stream",
          "text": [
            "/usr/local/lib/python3.7/dist-packages/sklearn/model_selection/_split.py:296: FutureWarning: Setting a random_state has no effect since shuffle is False. This will raise an error in 0.24. You should leave random_state to its default (None), or set shuffle=True.\n",
            "  FutureWarning\n",
            "/usr/local/lib/python3.7/dist-packages/sklearn/linear_model/_logistic.py:940: ConvergenceWarning: lbfgs failed to converge (status=1):\n",
            "STOP: TOTAL NO. of ITERATIONS REACHED LIMIT.\n",
            "\n",
            "Increase the number of iterations (max_iter) or scale the data as shown in:\n",
            "    https://scikit-learn.org/stable/modules/preprocessing.html\n",
            "Please also refer to the documentation for alternative solver options:\n",
            "    https://scikit-learn.org/stable/modules/linear_model.html#logistic-regression\n",
            "  extra_warning_msg=_LOGISTIC_SOLVER_CONVERGENCE_MSG)\n",
            "/usr/local/lib/python3.7/dist-packages/sklearn/linear_model/_logistic.py:940: ConvergenceWarning: lbfgs failed to converge (status=1):\n",
            "STOP: TOTAL NO. of ITERATIONS REACHED LIMIT.\n",
            "\n",
            "Increase the number of iterations (max_iter) or scale the data as shown in:\n",
            "    https://scikit-learn.org/stable/modules/preprocessing.html\n",
            "Please also refer to the documentation for alternative solver options:\n",
            "    https://scikit-learn.org/stable/modules/linear_model.html#logistic-regression\n",
            "  extra_warning_msg=_LOGISTIC_SOLVER_CONVERGENCE_MSG)\n",
            "/usr/local/lib/python3.7/dist-packages/sklearn/linear_model/_logistic.py:940: ConvergenceWarning: lbfgs failed to converge (status=1):\n",
            "STOP: TOTAL NO. of ITERATIONS REACHED LIMIT.\n",
            "\n",
            "Increase the number of iterations (max_iter) or scale the data as shown in:\n",
            "    https://scikit-learn.org/stable/modules/preprocessing.html\n",
            "Please also refer to the documentation for alternative solver options:\n",
            "    https://scikit-learn.org/stable/modules/linear_model.html#logistic-regression\n",
            "  extra_warning_msg=_LOGISTIC_SOLVER_CONVERGENCE_MSG)\n",
            "/usr/local/lib/python3.7/dist-packages/sklearn/linear_model/_logistic.py:940: ConvergenceWarning: lbfgs failed to converge (status=1):\n",
            "STOP: TOTAL NO. of ITERATIONS REACHED LIMIT.\n",
            "\n",
            "Increase the number of iterations (max_iter) or scale the data as shown in:\n",
            "    https://scikit-learn.org/stable/modules/preprocessing.html\n",
            "Please also refer to the documentation for alternative solver options:\n",
            "    https://scikit-learn.org/stable/modules/linear_model.html#logistic-regression\n",
            "  extra_warning_msg=_LOGISTIC_SOLVER_CONVERGENCE_MSG)\n",
            "/usr/local/lib/python3.7/dist-packages/sklearn/linear_model/_logistic.py:940: ConvergenceWarning: lbfgs failed to converge (status=1):\n",
            "STOP: TOTAL NO. of ITERATIONS REACHED LIMIT.\n",
            "\n",
            "Increase the number of iterations (max_iter) or scale the data as shown in:\n",
            "    https://scikit-learn.org/stable/modules/preprocessing.html\n",
            "Please also refer to the documentation for alternative solver options:\n",
            "    https://scikit-learn.org/stable/modules/linear_model.html#logistic-regression\n",
            "  extra_warning_msg=_LOGISTIC_SOLVER_CONVERGENCE_MSG)\n",
            "/usr/local/lib/python3.7/dist-packages/sklearn/linear_model/_logistic.py:940: ConvergenceWarning: lbfgs failed to converge (status=1):\n",
            "STOP: TOTAL NO. of ITERATIONS REACHED LIMIT.\n",
            "\n",
            "Increase the number of iterations (max_iter) or scale the data as shown in:\n",
            "    https://scikit-learn.org/stable/modules/preprocessing.html\n",
            "Please also refer to the documentation for alternative solver options:\n",
            "    https://scikit-learn.org/stable/modules/linear_model.html#logistic-regression\n",
            "  extra_warning_msg=_LOGISTIC_SOLVER_CONVERGENCE_MSG)\n",
            "/usr/local/lib/python3.7/dist-packages/sklearn/linear_model/_logistic.py:940: ConvergenceWarning: lbfgs failed to converge (status=1):\n",
            "STOP: TOTAL NO. of ITERATIONS REACHED LIMIT.\n",
            "\n",
            "Increase the number of iterations (max_iter) or scale the data as shown in:\n",
            "    https://scikit-learn.org/stable/modules/preprocessing.html\n",
            "Please also refer to the documentation for alternative solver options:\n",
            "    https://scikit-learn.org/stable/modules/linear_model.html#logistic-regression\n",
            "  extra_warning_msg=_LOGISTIC_SOLVER_CONVERGENCE_MSG)\n",
            "/usr/local/lib/python3.7/dist-packages/sklearn/linear_model/_logistic.py:940: ConvergenceWarning: lbfgs failed to converge (status=1):\n",
            "STOP: TOTAL NO. of ITERATIONS REACHED LIMIT.\n",
            "\n",
            "Increase the number of iterations (max_iter) or scale the data as shown in:\n",
            "    https://scikit-learn.org/stable/modules/preprocessing.html\n",
            "Please also refer to the documentation for alternative solver options:\n",
            "    https://scikit-learn.org/stable/modules/linear_model.html#logistic-regression\n",
            "  extra_warning_msg=_LOGISTIC_SOLVER_CONVERGENCE_MSG)\n",
            "/usr/local/lib/python3.7/dist-packages/sklearn/linear_model/_logistic.py:940: ConvergenceWarning: lbfgs failed to converge (status=1):\n",
            "STOP: TOTAL NO. of ITERATIONS REACHED LIMIT.\n",
            "\n",
            "Increase the number of iterations (max_iter) or scale the data as shown in:\n",
            "    https://scikit-learn.org/stable/modules/preprocessing.html\n",
            "Please also refer to the documentation for alternative solver options:\n",
            "    https://scikit-learn.org/stable/modules/linear_model.html#logistic-regression\n",
            "  extra_warning_msg=_LOGISTIC_SOLVER_CONVERGENCE_MSG)\n"
          ],
          "name": "stderr"
        },
        {
          "output_type": "stream",
          "text": [
            "Scores    : [0.66281139 0.6405694  0.63967972 0.62544484 0.63879004 0.67081851\n",
            " 0.64559216 0.64737311 0.61531612 0.650935  ]\n",
            "Accuracy  : 0.6437330263687441\n"
          ],
          "name": "stdout"
        },
        {
          "output_type": "stream",
          "text": [
            "/usr/local/lib/python3.7/dist-packages/sklearn/linear_model/_logistic.py:940: ConvergenceWarning: lbfgs failed to converge (status=1):\n",
            "STOP: TOTAL NO. of ITERATIONS REACHED LIMIT.\n",
            "\n",
            "Increase the number of iterations (max_iter) or scale the data as shown in:\n",
            "    https://scikit-learn.org/stable/modules/preprocessing.html\n",
            "Please also refer to the documentation for alternative solver options:\n",
            "    https://scikit-learn.org/stable/modules/linear_model.html#logistic-regression\n",
            "  extra_warning_msg=_LOGISTIC_SOLVER_CONVERGENCE_MSG)\n"
          ],
          "name": "stderr"
        }
      ]
    }
  ]
}